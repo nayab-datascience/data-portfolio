{
 "cells": [
  {
   "cell_type": "markdown",
   "id": "6c94e823",
   "metadata": {},
   "source": [
    "# Sales Data Analysis\n",
    "\n",
    "This notebook analyzes sales data to find insights about products and revenue."
   ]
  },
  {
   "cell_type": "code",
   "execution_count": null,
   "id": "a5e6bce5",
   "metadata": {},
   "outputs": [],
   "source": [
    "\n",
    "import pandas as pd\n",
    "import matplotlib.pyplot as plt\n",
    "\n",
    "# Load dataset\n",
    "df = pd.read_csv(\"sales.csv\")\n",
    "df.head()\n"
   ]
  },
  {
   "cell_type": "code",
   "execution_count": null,
   "id": "23e63ee9",
   "metadata": {},
   "outputs": [],
   "source": [
    "\n",
    "# Basic summary of dataset\n",
    "df.describe()\n"
   ]
  },
  {
   "cell_type": "code",
   "execution_count": null,
   "id": "7daee61a",
   "metadata": {},
   "outputs": [],
   "source": [
    "\n",
    "# Group by product to find best sellers\n",
    "best_products = df.groupby(\"Product\")[\"Revenue\"].sum().sort_values(ascending=False)\n",
    "best_products\n"
   ]
  },
  {
   "cell_type": "code",
   "execution_count": null,
   "id": "ab44a403",
   "metadata": {},
   "outputs": [],
   "source": [
    "\n",
    "# Visualize best-selling products\n",
    "best_products.plot(kind=\"bar\", figsize=(6,4), title=\"Best-Selling Products (by Revenue)\")\n",
    "plt.ylabel(\"Revenue\")\n",
    "plt.show()\n"
   ]
  },
  {
   "cell_type": "code",
   "execution_count": null,
   "id": "a800f0c5",
   "metadata": {},
   "outputs": [],
   "source": [
    "\n",
    "# Analyze sales trends over time\n",
    "df[\"Date\"] = pd.to_datetime(df[\"Date\"])\n",
    "monthly_revenue = df.groupby(df[\"Date\"].dt.to_period(\"M\"))[\"Revenue\"].sum()\n",
    "\n",
    "monthly_revenue.plot(kind=\"line\", figsize=(8,4), marker=\"o\", title=\"Monthly Revenue Trend\")\n",
    "plt.ylabel(\"Revenue\")\n",
    "plt.show()\n"
   ]
  }
 ],
 "metadata": {},
 "nbformat": 4,
 "nbformat_minor": 5
}
